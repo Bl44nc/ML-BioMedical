{
  "cells": [
    {
      "cell_type": "markdown",
      "metadata": {
        "id": "8ImoQ0-hwC2W"
      },
      "source": [
        "# Context\n",
        "\n",
        "Recent studies have shown that breast cancer continues to be the leading cause of death among women over the world. If detected at an early stage, it can be cured in 9 out of 10 cases.\n",
        "\n",
        "Automated detection and segmentation of cells from images are the crucial and fundamental steps for the measurement of cellular morphology that is crucial for brest cancer diagnosis and prognosis.\n",
        "\n",
        "\n",
        "In this notebook, you will learn how to train a segmentation as UNet with **monai** - a framwork based Pytorch Stadard for healthcare imaging."
      ]
    },
    {
      "cell_type": "markdown",
      "metadata": {
        "id": "GzFCO5Oxw33j"
      },
      "source": [
        "## Monai\n",
        "\n",
        "MONAI is a pytorch based open source AI framework launched by NVIDIA and King’s College London.\n",
        "It is integrated with training and modelling workflows in a native PyTorch Standard. t several places.\n"
      ]
    },
    {
      "cell_type": "markdown",
      "metadata": {
        "id": "Hz5QCkOJPLZa"
      },
      "source": [
        "Install monai"
      ]
    },
    {
      "cell_type": "code",
      "execution_count": 1,
      "metadata": {
        "id": "fHn1Sg81-_wk"
      },
      "outputs": [
        {
          "name": "stdout",
          "output_type": "stream",
          "text": [
            "Collecting monai\n",
            "  Downloading monai-1.3.2-py3-none-any.whl.metadata (10 kB)\n",
            "Requirement already satisfied: torch>=1.9 in c:\\users\\gatig\\anaconda3\\envs\\bm\\lib\\site-packages (from monai) (2.4.1)\n",
            "Requirement already satisfied: numpy>=1.20 in c:\\users\\gatig\\anaconda3\\envs\\bm\\lib\\site-packages (from monai) (2.1.1)\n",
            "Requirement already satisfied: filelock in c:\\users\\gatig\\anaconda3\\envs\\bm\\lib\\site-packages (from torch>=1.9->monai) (3.16.0)\n",
            "Requirement already satisfied: typing-extensions>=4.8.0 in c:\\users\\gatig\\anaconda3\\envs\\bm\\lib\\site-packages (from torch>=1.9->monai) (4.12.2)\n",
            "Requirement already satisfied: sympy in c:\\users\\gatig\\anaconda3\\envs\\bm\\lib\\site-packages (from torch>=1.9->monai) (1.13.2)\n",
            "Requirement already satisfied: networkx in c:\\users\\gatig\\anaconda3\\envs\\bm\\lib\\site-packages (from torch>=1.9->monai) (3.3)\n",
            "Requirement already satisfied: jinja2 in c:\\users\\gatig\\anaconda3\\envs\\bm\\lib\\site-packages (from torch>=1.9->monai) (3.1.4)\n",
            "Requirement already satisfied: fsspec in c:\\users\\gatig\\anaconda3\\envs\\bm\\lib\\site-packages (from torch>=1.9->monai) (2024.9.0)\n",
            "Requirement already satisfied: MarkupSafe>=2.0 in c:\\users\\gatig\\anaconda3\\envs\\bm\\lib\\site-packages (from jinja2->torch>=1.9->monai) (2.1.5)\n",
            "Requirement already satisfied: mpmath<1.4,>=1.1.0 in c:\\users\\gatig\\anaconda3\\envs\\bm\\lib\\site-packages (from sympy->torch>=1.9->monai) (1.3.0)\n",
            "Downloading monai-1.3.2-py3-none-any.whl (1.4 MB)\n",
            "   ---------------------------------------- 0.0/1.4 MB ? eta -:--:--\n",
            "   ---------------------------------------- 0.0/1.4 MB ? eta -:--:--\n",
            "   ---------------------------------------- 0.0/1.4 MB ? eta -:--:--\n",
            "   ---------------------------------------- 0.0/1.4 MB ? eta -:--:--\n",
            "   ---------------------------------------- 0.0/1.4 MB ? eta -:--:--\n",
            "   ------- -------------------------------- 0.3/1.4 MB ? eta -:--:--\n",
            "   ------- -------------------------------- 0.3/1.4 MB ? eta -:--:--\n",
            "   ------- -------------------------------- 0.3/1.4 MB ? eta -:--:--\n",
            "   ------- -------------------------------- 0.3/1.4 MB ? eta -:--:--\n",
            "   ------- -------------------------------- 0.3/1.4 MB ? eta -:--:--\n",
            "   ------- -------------------------------- 0.3/1.4 MB ? eta -:--:--\n",
            "   ------- -------------------------------- 0.3/1.4 MB ? eta -:--:--\n",
            "   ------- -------------------------------- 0.3/1.4 MB ? eta -:--:--\n",
            "   --------------- ------------------------ 0.5/1.4 MB 159.7 kB/s eta 0:00:06\n",
            "   --------------- ------------------------ 0.5/1.4 MB 159.7 kB/s eta 0:00:06\n",
            "   --------------- ------------------------ 0.5/1.4 MB 159.7 kB/s eta 0:00:06\n",
            "   --------------- ------------------------ 0.5/1.4 MB 159.7 kB/s eta 0:00:06\n",
            "   --------------- ------------------------ 0.5/1.4 MB 159.7 kB/s eta 0:00:06\n",
            "   --------------- ------------------------ 0.5/1.4 MB 159.7 kB/s eta 0:00:06\n",
            "   --------------- ------------------------ 0.5/1.4 MB 159.7 kB/s eta 0:00:06\n",
            "   --------------- ------------------------ 0.5/1.4 MB 159.7 kB/s eta 0:00:06\n",
            "   --------------- ------------------------ 0.5/1.4 MB 159.7 kB/s eta 0:00:06\n",
            "   --------------- ------------------------ 0.5/1.4 MB 159.7 kB/s eta 0:00:06\n",
            "   --------------- ------------------------ 0.5/1.4 MB 159.7 kB/s eta 0:00:06\n",
            "   --------------- ------------------------ 0.5/1.4 MB 159.7 kB/s eta 0:00:06\n",
            "   --------------- ------------------------ 0.5/1.4 MB 159.7 kB/s eta 0:00:06\n",
            "   ---------------------- ----------------- 0.8/1.4 MB 122.0 kB/s eta 0:00:05\n",
            "   ---------------------- ----------------- 0.8/1.4 MB 122.0 kB/s eta 0:00:05\n",
            "   ---------------------- ----------------- 0.8/1.4 MB 122.0 kB/s eta 0:00:05\n",
            "   ---------------------- ----------------- 0.8/1.4 MB 122.0 kB/s eta 0:00:05\n",
            "   ---------------------- ----------------- 0.8/1.4 MB 122.0 kB/s eta 0:00:05\n",
            "   ---------------------- ----------------- 0.8/1.4 MB 122.0 kB/s eta 0:00:05\n",
            "   ---------------------- ----------------- 0.8/1.4 MB 122.0 kB/s eta 0:00:05\n",
            "   ---------------------- ----------------- 0.8/1.4 MB 122.0 kB/s eta 0:00:05\n",
            "   ---------------------- ----------------- 0.8/1.4 MB 122.0 kB/s eta 0:00:05\n",
            "   ---------------------- ----------------- 0.8/1.4 MB 122.0 kB/s eta 0:00:05\n",
            "   ---------------------- ----------------- 0.8/1.4 MB 122.0 kB/s eta 0:00:05\n",
            "   ---------------------- ----------------- 0.8/1.4 MB 122.0 kB/s eta 0:00:05\n",
            "   ---------------------- ----------------- 0.8/1.4 MB 122.0 kB/s eta 0:00:05\n",
            "   ------------------------------ --------- 1.0/1.4 MB 112.6 kB/s eta 0:00:03\n",
            "   ------------------------------ --------- 1.0/1.4 MB 112.6 kB/s eta 0:00:03\n",
            "   ------------------------------ --------- 1.0/1.4 MB 112.6 kB/s eta 0:00:03\n",
            "   ------------------------------ --------- 1.0/1.4 MB 112.6 kB/s eta 0:00:03\n",
            "   ------------------------------ --------- 1.0/1.4 MB 112.6 kB/s eta 0:00:03\n",
            "   ------------------------------ --------- 1.0/1.4 MB 112.6 kB/s eta 0:00:03\n",
            "   ------------------------------ --------- 1.0/1.4 MB 112.6 kB/s eta 0:00:03\n",
            "   ------------------------------ --------- 1.0/1.4 MB 112.6 kB/s eta 0:00:03\n",
            "   ------------------------------ --------- 1.0/1.4 MB 112.6 kB/s eta 0:00:03\n",
            "   ------------------------------ --------- 1.0/1.4 MB 112.6 kB/s eta 0:00:03\n",
            "   ------------------------------ --------- 1.0/1.4 MB 112.6 kB/s eta 0:00:03\n",
            "   ------------------------------ --------- 1.0/1.4 MB 112.6 kB/s eta 0:00:03\n",
            "   ------------------------------ --------- 1.0/1.4 MB 112.6 kB/s eta 0:00:03\n",
            "   ------------------------------ --------- 1.0/1.4 MB 112.6 kB/s eta 0:00:03\n",
            "   -------------------------------------- - 1.3/1.4 MB 105.8 kB/s eta 0:00:01\n",
            "   ---------------------------------------- 1.4/1.4 MB 109.8 kB/s eta 0:00:00\n",
            "Installing collected packages: monai\n",
            "Successfully installed monai-1.3.2\n",
            "Note: you may need to restart the kernel to use updated packages.\n"
          ]
        }
      ],
      "source": [
        "%pip install monai"
      ]
    },
    {
      "cell_type": "markdown",
      "metadata": {
        "id": "4XsRM6vPhTyc"
      },
      "source": [
        "Check the installation by running the following cell"
      ]
    },
    {
      "cell_type": "code",
      "execution_count": 3,
      "metadata": {},
      "outputs": [
        {
          "name": "stdout",
          "output_type": "stream",
          "text": [
            "Requirement already satisfied: monai[all] in c:\\users\\gatig\\anaconda3\\envs\\bm\\lib\\site-packages (1.3.2)\n",
            "Requirement already satisfied: torch>=1.9 in c:\\users\\gatig\\anaconda3\\envs\\bm\\lib\\site-packages (from monai[all]) (2.4.1)\n",
            "Requirement already satisfied: numpy>=1.20 in c:\\users\\gatig\\anaconda3\\envs\\bm\\lib\\site-packages (from monai[all]) (1.26.4)\n",
            "Collecting nibabel (from monai[all])\n",
            "  Using cached nibabel-5.2.1-py3-none-any.whl.metadata (8.8 kB)\n",
            "Requirement already satisfied: ninja in c:\\users\\gatig\\anaconda3\\envs\\bm\\lib\\site-packages (from monai[all]) (1.11.1.1)\n",
            "Collecting scikit-image>=0.14.2 (from monai[all])\n",
            "  Using cached scikit_image-0.24.0-cp311-cp311-win_amd64.whl.metadata (14 kB)\n",
            "Requirement already satisfied: scipy>=1.7.1 in c:\\users\\gatig\\anaconda3\\envs\\bm\\lib\\site-packages (from monai[all]) (1.14.1)\n",
            "Requirement already satisfied: pillow in c:\\users\\gatig\\anaconda3\\envs\\bm\\lib\\site-packages (from monai[all]) (10.4.0)\n",
            "Collecting tensorboard (from monai[all])\n",
            "  Using cached tensorboard-2.18.0-py3-none-any.whl.metadata (1.6 kB)\n",
            "Collecting gdown>=4.7.3 (from monai[all])\n",
            "  Using cached gdown-5.2.0-py3-none-any.whl.metadata (5.8 kB)\n",
            "Collecting pytorch-ignite==0.4.11 (from monai[all])\n",
            "  Using cached pytorch_ignite-0.4.11-py3-none-any.whl.metadata (28 kB)\n",
            "Collecting torchvision (from monai[all])\n",
            "  Using cached torchvision-0.19.1-cp311-cp311-win_amd64.whl.metadata (6.1 kB)\n",
            "Collecting itk>=5.2 (from monai[all])\n",
            "  Using cached itk-5.4.0-cp311-abi3-win_amd64.whl.metadata (22 kB)\n",
            "Requirement already satisfied: tqdm>=4.47.0 in c:\\users\\gatig\\anaconda3\\envs\\bm\\lib\\site-packages (from monai[all]) (4.66.5)\n",
            "Requirement already satisfied: lmdb in c:\\users\\gatig\\anaconda3\\envs\\bm\\lib\\site-packages (from monai[all]) (1.5.1)\n",
            "Requirement already satisfied: psutil in c:\\users\\gatig\\anaconda3\\envs\\bm\\lib\\site-packages (from monai[all]) (5.9.0)\n",
            "Collecting openslide-python (from monai[all])\n",
            "  Using cached openslide_python-1.3.1-cp311-cp311-win_amd64.whl.metadata (4.0 kB)\n",
            "Collecting tifffile (from monai[all])\n",
            "  Using cached tifffile-2024.9.20-py3-none-any.whl.metadata (32 kB)\n",
            "Collecting imagecodecs (from monai[all])\n",
            "  Using cached imagecodecs-2024.9.22-cp311-cp311-win_amd64.whl.metadata (20 kB)\n",
            "Requirement already satisfied: pandas in c:\\users\\gatig\\anaconda3\\envs\\bm\\lib\\site-packages (from monai[all]) (2.2.2)\n",
            "Collecting einops (from monai[all])\n",
            "  Using cached einops-0.8.0-py3-none-any.whl.metadata (12 kB)\n",
            "Collecting mlflow>=2.12.2 (from monai[all])\n",
            "  Using cached mlflow-2.16.2-py3-none-any.whl.metadata (29 kB)\n",
            "Collecting clearml>=1.10.0rc0 (from monai[all])\n",
            "  Using cached clearml-1.16.5rc2-py2.py3-none-any.whl.metadata (17 kB)\n",
            "Collecting matplotlib>=3.6.3 (from monai[all])\n",
            "  Using cached matplotlib-3.9.2-cp311-cp311-win_amd64.whl.metadata (11 kB)\n",
            "Collecting tensorboardX (from monai[all])\n",
            "  Using cached tensorboardX-2.6.2.2-py2.py3-none-any.whl.metadata (5.8 kB)\n",
            "Requirement already satisfied: pyyaml in c:\\users\\gatig\\anaconda3\\envs\\bm\\lib\\site-packages (from monai[all]) (6.0.2)\n",
            "Collecting fire (from monai[all])\n",
            "  Using cached fire-0.7.0-py3-none-any.whl\n",
            "Collecting jsonschema (from monai[all])\n",
            "  Using cached jsonschema-4.23.0-py3-none-any.whl.metadata (7.9 kB)\n",
            "Collecting pynrrd (from monai[all])\n",
            "  Using cached pynrrd-1.0.0-py2.py3-none-any.whl.metadata (3.9 kB)\n",
            "Requirement already satisfied: pydicom in c:\\users\\gatig\\anaconda3\\envs\\bm\\lib\\site-packages (from monai[all]) (3.0.1)\n",
            "Collecting h5py (from monai[all])\n",
            "  Using cached h5py-3.12.1-cp311-cp311-win_amd64.whl.metadata (2.5 kB)\n",
            "Collecting nni (from monai[all])\n",
            "  Using cached nni-3.0-py3-none-win_amd64.whl.metadata (19 kB)\n",
            "Collecting optuna (from monai[all])\n",
            "  Using cached optuna-4.0.0-py3-none-any.whl.metadata (16 kB)\n",
            "Collecting onnx>=1.13.0 (from monai[all])\n",
            "  Using cached onnx-1.17.0-cp311-cp311-win_amd64.whl.metadata (16 kB)\n",
            "Collecting zarr (from monai[all])\n",
            "  Using cached zarr-2.18.3-py3-none-any.whl.metadata (5.7 kB)\n",
            "Collecting lpips==0.1.4 (from monai[all])\n",
            "  Using cached lpips-0.1.4-py3-none-any.whl.metadata (10 kB)\n",
            "Requirement already satisfied: nvidia-ml-py in c:\\users\\gatig\\anaconda3\\envs\\bm\\lib\\site-packages (from monai[all]) (12.560.30)\n",
            "Collecting huggingface-hub (from monai[all])\n",
            "  Using cached huggingface_hub-0.25.1-py3-none-any.whl.metadata (13 kB)\n",
            "Requirement already satisfied: packaging in c:\\users\\gatig\\anaconda3\\envs\\bm\\lib\\site-packages (from pytorch-ignite==0.4.11->monai[all]) (24.1)\n",
            "Collecting attrs>=18.0 (from clearml>=1.10.0rc0->monai[all])\n",
            "  Using cached attrs-24.2.0-py3-none-any.whl.metadata (11 kB)\n",
            "Collecting furl>=2.0.0 (from clearml>=1.10.0rc0->monai[all])\n",
            "  Using cached furl-2.1.3-py2.py3-none-any.whl.metadata (1.2 kB)\n",
            "Requirement already satisfied: pathlib2>=2.3.0 in c:\\users\\gatig\\anaconda3\\envs\\bm\\lib\\site-packages (from clearml>=1.10.0rc0->monai[all]) (2.3.7.post1)\n",
            "Requirement already satisfied: pyparsing>=2.0.3 in c:\\users\\gatig\\anaconda3\\envs\\bm\\lib\\site-packages (from clearml>=1.10.0rc0->monai[all]) (3.1.4)\n",
            "Requirement already satisfied: python-dateutil>=2.6.1 in c:\\users\\gatig\\anaconda3\\envs\\bm\\lib\\site-packages (from clearml>=1.10.0rc0->monai[all]) (2.9.0)\n",
            "Collecting requests>=2.20.0 (from clearml>=1.10.0rc0->monai[all])\n",
            "  Using cached requests-2.32.3-py3-none-any.whl.metadata (4.6 kB)\n",
            "Requirement already satisfied: six>=1.13.0 in c:\\users\\gatig\\anaconda3\\envs\\bm\\lib\\site-packages (from clearml>=1.10.0rc0->monai[all]) (1.16.0)\n",
            "Requirement already satisfied: urllib3>=1.21.1 in c:\\users\\gatig\\anaconda3\\envs\\bm\\lib\\site-packages (from clearml>=1.10.0rc0->monai[all]) (2.2.3)\n",
            "Requirement already satisfied: pyjwt<2.9.0,>=2.4.0 in c:\\users\\gatig\\anaconda3\\envs\\bm\\lib\\site-packages (from clearml>=1.10.0rc0->monai[all]) (2.8.0)\n",
            "Collecting referencing<0.40 (from clearml>=1.10.0rc0->monai[all])\n",
            "  Using cached referencing-0.35.1-py3-none-any.whl.metadata (2.8 kB)\n",
            "Collecting beautifulsoup4 (from gdown>=4.7.3->monai[all])\n",
            "  Using cached beautifulsoup4-4.12.3-py3-none-any.whl.metadata (3.8 kB)\n",
            "Requirement already satisfied: filelock in c:\\users\\gatig\\anaconda3\\envs\\bm\\lib\\site-packages (from gdown>=4.7.3->monai[all]) (3.16.0)\n",
            "Collecting itk-core==5.4.0 (from itk>=5.2->monai[all])\n",
            "  Using cached itk_core-5.4.0-cp311-abi3-win_amd64.whl.metadata (22 kB)\n",
            "Collecting itk-numerics==5.4.0 (from itk>=5.2->monai[all])\n",
            "  Using cached itk_numerics-5.4.0-cp311-abi3-win_amd64.whl.metadata (22 kB)\n",
            "Collecting itk-io==5.4.0 (from itk>=5.2->monai[all])\n",
            "  Using cached itk_io-5.4.0-cp311-abi3-win_amd64.whl.metadata (22 kB)\n",
            "Collecting itk-filtering==5.4.0 (from itk>=5.2->monai[all])\n",
            "  Using cached itk_filtering-5.4.0-cp311-abi3-win_amd64.whl.metadata (22 kB)\n",
            "Collecting itk-registration==5.4.0 (from itk>=5.2->monai[all])\n",
            "  Using cached itk_registration-5.4.0-cp311-abi3-win_amd64.whl.metadata (22 kB)\n",
            "Collecting itk-segmentation==5.4.0 (from itk>=5.2->monai[all])\n",
            "  Using cached itk_segmentation-5.4.0-cp311-abi3-win_amd64.whl.metadata (22 kB)\n",
            "Collecting jsonschema-specifications>=2023.03.6 (from jsonschema->monai[all])\n",
            "  Using cached jsonschema_specifications-2023.12.1-py3-none-any.whl.metadata (3.0 kB)\n",
            "Requirement already satisfied: rpds-py>=0.7.1 in c:\\users\\gatig\\anaconda3\\envs\\bm\\lib\\site-packages (from jsonschema->monai[all]) (0.20.0)\n",
            "Collecting contourpy>=1.0.1 (from matplotlib>=3.6.3->monai[all])\n",
            "  Using cached contourpy-1.3.0-cp311-cp311-win_amd64.whl.metadata (5.4 kB)\n",
            "Collecting cycler>=0.10 (from matplotlib>=3.6.3->monai[all])\n",
            "  Using cached cycler-0.12.1-py3-none-any.whl.metadata (3.8 kB)\n",
            "Collecting fonttools>=4.22.0 (from matplotlib>=3.6.3->monai[all])\n",
            "  Using cached fonttools-4.54.1-cp311-cp311-win_amd64.whl.metadata (167 kB)\n",
            "Collecting kiwisolver>=1.3.1 (from matplotlib>=3.6.3->monai[all])\n",
            "  Using cached kiwisolver-1.4.7-cp311-cp311-win_amd64.whl.metadata (6.4 kB)\n",
            "Collecting mlflow-skinny==2.16.2 (from mlflow>=2.12.2->monai[all])\n",
            "  Using cached mlflow_skinny-2.16.2-py3-none-any.whl.metadata (30 kB)\n",
            "Collecting Flask<4 (from mlflow>=2.12.2->monai[all])\n",
            "  Using cached flask-3.0.3-py3-none-any.whl.metadata (3.2 kB)\n",
            "Collecting alembic!=1.10.0,<2 (from mlflow>=2.12.2->monai[all])\n",
            "  Using cached alembic-1.13.3-py3-none-any.whl.metadata (7.4 kB)\n",
            "Collecting docker<8,>=4.0.0 (from mlflow>=2.12.2->monai[all])\n",
            "  Using cached docker-7.1.0-py3-none-any.whl.metadata (3.8 kB)\n",
            "Collecting graphene<4 (from mlflow>=2.12.2->monai[all])\n",
            "  Using cached graphene-3.3-py2.py3-none-any.whl.metadata (7.7 kB)\n",
            "Collecting markdown<4,>=3.3 (from mlflow>=2.12.2->monai[all])\n",
            "  Using cached Markdown-3.7-py3-none-any.whl.metadata (7.0 kB)\n",
            "Collecting pyarrow<18,>=4.0.0 (from mlflow>=2.12.2->monai[all])\n",
            "  Using cached pyarrow-17.0.0-cp311-cp311-win_amd64.whl.metadata (3.4 kB)\n",
            "Requirement already satisfied: scikit-learn<2 in c:\\users\\gatig\\anaconda3\\envs\\bm\\lib\\site-packages (from mlflow>=2.12.2->monai[all]) (1.5.2)\n",
            "Collecting sqlalchemy<3,>=1.4.0 (from mlflow>=2.12.2->monai[all])\n",
            "  Using cached SQLAlchemy-2.0.35-cp311-cp311-win_amd64.whl.metadata (9.9 kB)\n",
            "Requirement already satisfied: Jinja2<4,>=3.0 in c:\\users\\gatig\\anaconda3\\envs\\bm\\lib\\site-packages (from mlflow>=2.12.2->monai[all]) (3.1.4)\n",
            "Requirement already satisfied: waitress<4 in c:\\users\\gatig\\anaconda3\\envs\\bm\\lib\\site-packages (from mlflow>=2.12.2->monai[all]) (3.0.0)\n",
            "Collecting cachetools<6,>=5.0.0 (from mlflow-skinny==2.16.2->mlflow>=2.12.2->monai[all])\n",
            "  Using cached cachetools-5.5.0-py3-none-any.whl.metadata (5.3 kB)\n",
            "Collecting click<9,>=7.0 (from mlflow-skinny==2.16.2->mlflow>=2.12.2->monai[all])\n",
            "  Using cached click-8.1.7-py3-none-any.whl.metadata (3.0 kB)\n",
            "Collecting cloudpickle<4 (from mlflow-skinny==2.16.2->mlflow>=2.12.2->monai[all])\n",
            "  Using cached cloudpickle-3.0.0-py3-none-any.whl.metadata (7.0 kB)\n",
            "Collecting databricks-sdk<1,>=0.20.0 (from mlflow-skinny==2.16.2->mlflow>=2.12.2->monai[all])\n",
            "  Using cached databricks_sdk-0.33.0-py3-none-any.whl.metadata (37 kB)\n",
            "Collecting gitpython<4,>=3.1.9 (from mlflow-skinny==2.16.2->mlflow>=2.12.2->monai[all])\n",
            "  Using cached GitPython-3.1.43-py3-none-any.whl.metadata (13 kB)\n",
            "Requirement already satisfied: importlib-metadata!=4.7.0,<9,>=3.7.0 in c:\\users\\gatig\\anaconda3\\envs\\bm\\lib\\site-packages (from mlflow-skinny==2.16.2->mlflow>=2.12.2->monai[all]) (8.4.0)\n",
            "Collecting opentelemetry-api<3,>=1.9.0 (from mlflow-skinny==2.16.2->mlflow>=2.12.2->monai[all])\n",
            "  Using cached opentelemetry_api-1.27.0-py3-none-any.whl.metadata (1.4 kB)\n",
            "Collecting opentelemetry-sdk<3,>=1.9.0 (from mlflow-skinny==2.16.2->mlflow>=2.12.2->monai[all])\n",
            "  Using cached opentelemetry_sdk-1.27.0-py3-none-any.whl.metadata (1.5 kB)\n",
            "Requirement already satisfied: protobuf<6,>=3.12.0 in c:\\users\\gatig\\anaconda3\\envs\\bm\\lib\\site-packages (from mlflow-skinny==2.16.2->mlflow>=2.12.2->monai[all]) (5.28.2)\n",
            "Requirement already satisfied: sqlparse<1,>=0.4.0 in c:\\users\\gatig\\anaconda3\\envs\\bm\\lib\\site-packages (from mlflow-skinny==2.16.2->mlflow>=2.12.2->monai[all]) (0.5.1)\n",
            "Requirement already satisfied: pytz>=2020.1 in c:\\users\\gatig\\anaconda3\\envs\\bm\\lib\\site-packages (from pandas->monai[all]) (2024.2)\n",
            "Requirement already satisfied: tzdata>=2022.7 in c:\\users\\gatig\\anaconda3\\envs\\bm\\lib\\site-packages (from pandas->monai[all]) (2024.1)\n",
            "Requirement already satisfied: networkx>=2.8 in c:\\users\\gatig\\anaconda3\\envs\\bm\\lib\\site-packages (from scikit-image>=0.14.2->monai[all]) (3.3)\n",
            "Collecting imageio>=2.33 (from scikit-image>=0.14.2->monai[all])\n",
            "  Using cached imageio-2.35.1-py3-none-any.whl.metadata (4.9 kB)\n",
            "Collecting lazy-loader>=0.4 (from scikit-image>=0.14.2->monai[all])\n",
            "  Using cached lazy_loader-0.4-py3-none-any.whl.metadata (7.6 kB)\n",
            "Requirement already satisfied: typing-extensions>=4.8.0 in c:\\users\\gatig\\anaconda3\\envs\\bm\\lib\\site-packages (from torch>=1.9->monai[all]) (4.12.2)\n",
            "Requirement already satisfied: sympy in c:\\users\\gatig\\anaconda3\\envs\\bm\\lib\\site-packages (from torch>=1.9->monai[all]) (1.13.2)\n",
            "Requirement already satisfied: fsspec in c:\\users\\gatig\\anaconda3\\envs\\bm\\lib\\site-packages (from torch>=1.9->monai[all]) (2024.9.0)\n",
            "Requirement already satisfied: colorama in c:\\users\\gatig\\anaconda3\\envs\\bm\\lib\\site-packages (from tqdm>=4.47.0->monai[all]) (0.4.6)\n",
            "Requirement already satisfied: termcolor in c:\\users\\gatig\\anaconda3\\envs\\bm\\lib\\site-packages (from fire->monai[all]) (2.4.0)\n",
            "Collecting astor (from nni->monai[all])\n",
            "  Using cached astor-0.8.1-py2.py3-none-any.whl.metadata (4.2 kB)\n",
            "Collecting filelock (from gdown>=4.7.3->monai[all])\n",
            "  Using cached filelock-3.11.0-py3-none-any.whl.metadata (2.5 kB)\n",
            "Requirement already satisfied: json-tricks>=3.15.5 in c:\\users\\gatig\\anaconda3\\envs\\bm\\lib\\site-packages (from nni->monai[all]) (3.17.3)\n",
            "Requirement already satisfied: prettytable in c:\\users\\gatig\\anaconda3\\envs\\bm\\lib\\site-packages (from nni->monai[all]) (3.11.0)\n",
            "Collecting PythonWebHDFS (from nni->monai[all])\n",
            "  Using cached PythonWebHDFS-0.2.3-py3-none-any.whl.metadata (717 bytes)\n",
            "Collecting responses (from nni->monai[all])\n",
            "  Using cached responses-0.25.3-py3-none-any.whl.metadata (46 kB)\n",
            "Requirement already satisfied: schema in c:\\users\\gatig\\anaconda3\\envs\\bm\\lib\\site-packages (from nni->monai[all]) (0.7.7)\n",
            "Requirement already satisfied: typeguard<4.1.3,>=3.0.0 in c:\\users\\gatig\\anaconda3\\envs\\bm\\lib\\site-packages (from nni->monai[all]) (4.1.2)\n",
            "Requirement already satisfied: websockets>=10.1 in c:\\users\\gatig\\anaconda3\\envs\\bm\\lib\\site-packages (from nni->monai[all]) (13.1)\n",
            "Collecting colorlog (from optuna->monai[all])\n",
            "  Using cached colorlog-6.8.2-py3-none-any.whl.metadata (10 kB)\n",
            "Collecting nptyping (from pynrrd->monai[all])\n",
            "  Using cached nptyping-2.5.0-py3-none-any.whl.metadata (7.6 kB)\n",
            "Collecting absl-py>=0.4 (from tensorboard->monai[all])\n",
            "  Using cached absl_py-2.1.0-py3-none-any.whl.metadata (2.3 kB)\n",
            "Collecting grpcio>=1.48.2 (from tensorboard->monai[all])\n",
            "  Using cached grpcio-1.66.2-cp311-cp311-win_amd64.whl.metadata (4.0 kB)\n",
            "Requirement already satisfied: setuptools>=41.0.0 in c:\\users\\gatig\\anaconda3\\envs\\bm\\lib\\site-packages (from tensorboard->monai[all]) (72.1.0)\n",
            "Requirement already satisfied: tensorboard-data-server<0.8.0,>=0.7.0 in c:\\users\\gatig\\anaconda3\\envs\\bm\\lib\\site-packages (from tensorboard->monai[all]) (0.7.2)\n",
            "Requirement already satisfied: werkzeug>=1.0.1 in c:\\users\\gatig\\anaconda3\\envs\\bm\\lib\\site-packages (from tensorboard->monai[all]) (3.0.4)\n",
            "Requirement already satisfied: asciitree in c:\\users\\gatig\\anaconda3\\envs\\bm\\lib\\site-packages (from zarr->monai[all]) (0.3.3)\n",
            "Collecting numcodecs>=0.10.0 (from zarr->monai[all])\n",
            "  Using cached numcodecs-0.13.0-cp311-cp311-win_amd64.whl.metadata (3.0 kB)\n",
            "Collecting fasteners (from zarr->monai[all])\n",
            "  Using cached fasteners-0.19-py3-none-any.whl.metadata (4.9 kB)\n",
            "Collecting Mako (from alembic!=1.10.0,<2->mlflow>=2.12.2->monai[all])\n",
            "  Using cached Mako-1.3.5-py3-none-any.whl.metadata (2.9 kB)\n",
            "Requirement already satisfied: pywin32>=304 in c:\\users\\gatig\\anaconda3\\envs\\bm\\lib\\site-packages (from docker<8,>=4.0.0->mlflow>=2.12.2->monai[all]) (305.1)\n",
            "Collecting itsdangerous>=2.1.2 (from Flask<4->mlflow>=2.12.2->monai[all])\n",
            "  Using cached itsdangerous-2.2.0-py3-none-any.whl.metadata (1.9 kB)\n",
            "Collecting blinker>=1.6.2 (from Flask<4->mlflow>=2.12.2->monai[all])\n",
            "  Using cached blinker-1.8.2-py3-none-any.whl.metadata (1.6 kB)\n",
            "Requirement already satisfied: orderedmultidict>=1.0.1 in c:\\users\\gatig\\anaconda3\\envs\\bm\\lib\\site-packages (from furl>=2.0.0->clearml>=1.10.0rc0->monai[all]) (1.0.1)\n",
            "Collecting graphql-core<3.3,>=3.1 (from graphene<4->mlflow>=2.12.2->monai[all])\n",
            "  Using cached graphql_core-3.2.4-py3-none-any.whl.metadata (10 kB)\n",
            "Collecting graphql-relay<3.3,>=3.1 (from graphene<4->mlflow>=2.12.2->monai[all])\n",
            "  Using cached graphql_relay-3.2.0-py3-none-any.whl.metadata (12 kB)\n",
            "Requirement already satisfied: aniso8601<10,>=8 in c:\\users\\gatig\\anaconda3\\envs\\bm\\lib\\site-packages (from graphene<4->mlflow>=2.12.2->monai[all]) (9.0.1)\n",
            "Requirement already satisfied: MarkupSafe>=2.0 in c:\\users\\gatig\\anaconda3\\envs\\bm\\lib\\site-packages (from Jinja2<4,>=3.0->mlflow>=2.12.2->monai[all]) (2.1.5)\n",
            "Collecting charset-normalizer<4,>=2 (from requests>=2.20.0->clearml>=1.10.0rc0->monai[all])\n",
            "  Using cached charset_normalizer-3.3.2-cp311-cp311-win_amd64.whl.metadata (34 kB)\n",
            "Collecting idna<4,>=2.5 (from requests>=2.20.0->clearml>=1.10.0rc0->monai[all])\n",
            "  Using cached idna-3.10-py3-none-any.whl.metadata (10 kB)\n",
            "Collecting certifi>=2017.4.17 (from requests>=2.20.0->clearml>=1.10.0rc0->monai[all])\n",
            "  Using cached certifi-2024.8.30-py3-none-any.whl.metadata (2.2 kB)\n",
            "Requirement already satisfied: joblib>=1.2.0 in c:\\users\\gatig\\anaconda3\\envs\\bm\\lib\\site-packages (from scikit-learn<2->mlflow>=2.12.2->monai[all]) (1.4.2)\n",
            "Requirement already satisfied: threadpoolctl>=3.1.0 in c:\\users\\gatig\\anaconda3\\envs\\bm\\lib\\site-packages (from scikit-learn<2->mlflow>=2.12.2->monai[all]) (3.5.0)\n",
            "Collecting greenlet!=0.4.17 (from sqlalchemy<3,>=1.4.0->mlflow>=2.12.2->monai[all])\n",
            "  Using cached greenlet-3.1.1-cp311-cp311-win_amd64.whl.metadata (3.9 kB)\n",
            "Requirement already satisfied: soupsieve>1.2 in c:\\users\\gatig\\anaconda3\\envs\\bm\\lib\\site-packages (from beautifulsoup4->gdown>=4.7.3->monai[all]) (2.6)\n",
            "Requirement already satisfied: wcwidth in c:\\users\\gatig\\anaconda3\\envs\\bm\\lib\\site-packages (from prettytable->nni->monai[all]) (0.2.13)\n",
            "Requirement already satisfied: simplejson in c:\\users\\gatig\\anaconda3\\envs\\bm\\lib\\site-packages (from PythonWebHDFS->nni->monai[all]) (3.19.3)\n",
            "Requirement already satisfied: PySocks!=1.5.7,>=1.5.6 in c:\\users\\gatig\\anaconda3\\envs\\bm\\lib\\site-packages (from requests[socks]->gdown>=4.7.3->monai[all]) (1.7.1)\n",
            "Requirement already satisfied: mpmath<1.4,>=1.1.0 in c:\\users\\gatig\\anaconda3\\envs\\bm\\lib\\site-packages (from sympy->torch>=1.9->monai[all]) (1.3.0)\n",
            "Collecting google-auth~=2.0 (from databricks-sdk<1,>=0.20.0->mlflow-skinny==2.16.2->mlflow>=2.12.2->monai[all])\n",
            "  Using cached google_auth-2.35.0-py2.py3-none-any.whl.metadata (4.7 kB)\n",
            "Collecting gitdb<5,>=4.0.1 (from gitpython<4,>=3.1.9->mlflow-skinny==2.16.2->mlflow>=2.12.2->monai[all])\n",
            "  Using cached gitdb-4.0.11-py3-none-any.whl.metadata (1.2 kB)\n",
            "Requirement already satisfied: zipp>=0.5 in c:\\users\\gatig\\anaconda3\\envs\\bm\\lib\\site-packages (from importlib-metadata!=4.7.0,<9,>=3.7.0->mlflow-skinny==2.16.2->mlflow>=2.12.2->monai[all]) (3.20.1)\n",
            "Collecting deprecated>=1.2.6 (from opentelemetry-api<3,>=1.9.0->mlflow-skinny==2.16.2->mlflow>=2.12.2->monai[all])\n",
            "  Using cached Deprecated-1.2.14-py2.py3-none-any.whl.metadata (5.4 kB)\n",
            "Collecting opentelemetry-semantic-conventions==0.48b0 (from opentelemetry-sdk<3,>=1.9.0->mlflow-skinny==2.16.2->mlflow>=2.12.2->monai[all])\n",
            "  Using cached opentelemetry_semantic_conventions-0.48b0-py3-none-any.whl.metadata (2.4 kB)\n",
            "Requirement already satisfied: wrapt<2,>=1.10 in c:\\users\\gatig\\anaconda3\\envs\\bm\\lib\\site-packages (from deprecated>=1.2.6->opentelemetry-api<3,>=1.9.0->mlflow-skinny==2.16.2->mlflow>=2.12.2->monai[all]) (1.16.0)\n",
            "Requirement already satisfied: smmap<6,>=3.0.1 in c:\\users\\gatig\\anaconda3\\envs\\bm\\lib\\site-packages (from gitdb<5,>=4.0.1->gitpython<4,>=3.1.9->mlflow-skinny==2.16.2->mlflow>=2.12.2->monai[all]) (5.0.1)\n",
            "Collecting pyasn1-modules>=0.2.1 (from google-auth~=2.0->databricks-sdk<1,>=0.20.0->mlflow-skinny==2.16.2->mlflow>=2.12.2->monai[all])\n",
            "  Using cached pyasn1_modules-0.4.1-py3-none-any.whl.metadata (3.5 kB)\n",
            "Collecting rsa<5,>=3.1.4 (from google-auth~=2.0->databricks-sdk<1,>=0.20.0->mlflow-skinny==2.16.2->mlflow>=2.12.2->monai[all])\n",
            "  Using cached rsa-4.9-py3-none-any.whl.metadata (4.2 kB)\n",
            "Requirement already satisfied: pyasn1<0.7.0,>=0.4.6 in c:\\users\\gatig\\anaconda3\\envs\\bm\\lib\\site-packages (from pyasn1-modules>=0.2.1->google-auth~=2.0->databricks-sdk<1,>=0.20.0->mlflow-skinny==2.16.2->mlflow>=2.12.2->monai[all]) (0.6.1)\n",
            "Using cached lpips-0.1.4-py3-none-any.whl (53 kB)\n",
            "Using cached pytorch_ignite-0.4.11-py3-none-any.whl (266 kB)\n",
            "Using cached clearml-1.16.5rc2-py2.py3-none-any.whl (1.2 MB)\n",
            "Using cached gdown-5.2.0-py3-none-any.whl (18 kB)\n",
            "Using cached itk-5.4.0-cp311-abi3-win_amd64.whl (17 kB)\n",
            "Using cached itk_core-5.4.0-cp311-abi3-win_amd64.whl (38.1 MB)\n",
            "Using cached itk_filtering-5.4.0-cp311-abi3-win_amd64.whl (24.0 MB)\n",
            "Using cached itk_io-5.4.0-cp311-abi3-win_amd64.whl (8.7 MB)\n",
            "Using cached itk_numerics-5.4.0-cp311-abi3-win_amd64.whl (20.1 MB)\n",
            "Using cached itk_registration-5.4.0-cp311-abi3-win_amd64.whl (9.6 MB)\n",
            "Using cached itk_segmentation-5.4.0-cp311-abi3-win_amd64.whl (5.1 MB)\n",
            "Using cached jsonschema-4.23.0-py3-none-any.whl (88 kB)\n",
            "Using cached matplotlib-3.9.2-cp311-cp311-win_amd64.whl (7.8 MB)\n",
            "Using cached mlflow-2.16.2-py3-none-any.whl (26.7 MB)\n",
            "Using cached mlflow_skinny-2.16.2-py3-none-any.whl (5.6 MB)\n",
            "Using cached onnx-1.17.0-cp311-cp311-win_amd64.whl (14.5 MB)\n",
            "Using cached scikit_image-0.24.0-cp311-cp311-win_amd64.whl (12.8 MB)\n",
            "Using cached tifffile-2024.9.20-py3-none-any.whl (228 kB)\n",
            "Using cached torchvision-0.19.1-cp311-cp311-win_amd64.whl (1.3 MB)\n",
            "Using cached einops-0.8.0-py3-none-any.whl (43 kB)\n",
            "Using cached h5py-3.12.1-cp311-cp311-win_amd64.whl (3.0 MB)\n",
            "Using cached huggingface_hub-0.25.1-py3-none-any.whl (436 kB)\n",
            "Using cached imagecodecs-2024.9.22-cp311-cp311-win_amd64.whl (28.6 MB)\n",
            "Using cached nibabel-5.2.1-py3-none-any.whl (3.3 MB)\n",
            "Using cached nni-3.0-py3-none-win_amd64.whl (58.8 MB)\n",
            "Using cached openslide_python-1.3.1-cp311-cp311-win_amd64.whl (29 kB)\n",
            "Using cached optuna-4.0.0-py3-none-any.whl (362 kB)\n",
            "Using cached pynrrd-1.0.0-py2.py3-none-any.whl (19 kB)\n",
            "Using cached tensorboard-2.18.0-py3-none-any.whl (5.5 MB)\n",
            "Using cached tensorboardX-2.6.2.2-py2.py3-none-any.whl (101 kB)\n",
            "Using cached zarr-2.18.3-py3-none-any.whl (210 kB)\n",
            "Using cached absl_py-2.1.0-py3-none-any.whl (133 kB)\n",
            "Using cached alembic-1.13.3-py3-none-any.whl (233 kB)\n",
            "Using cached attrs-24.2.0-py3-none-any.whl (63 kB)\n",
            "Using cached cloudpickle-3.0.0-py3-none-any.whl (20 kB)\n",
            "Using cached contourpy-1.3.0-cp311-cp311-win_amd64.whl (217 kB)\n",
            "Using cached cycler-0.12.1-py3-none-any.whl (8.3 kB)\n",
            "Using cached docker-7.1.0-py3-none-any.whl (147 kB)\n",
            "Using cached filelock-3.11.0-py3-none-any.whl (10.0 kB)\n",
            "Using cached flask-3.0.3-py3-none-any.whl (101 kB)\n",
            "Using cached fonttools-4.54.1-cp311-cp311-win_amd64.whl (2.2 MB)\n",
            "Using cached furl-2.1.3-py2.py3-none-any.whl (20 kB)\n",
            "Using cached graphene-3.3-py2.py3-none-any.whl (128 kB)\n",
            "Using cached grpcio-1.66.2-cp311-cp311-win_amd64.whl (4.3 MB)\n",
            "Using cached imageio-2.35.1-py3-none-any.whl (315 kB)\n",
            "Using cached jsonschema_specifications-2023.12.1-py3-none-any.whl (18 kB)\n",
            "Using cached kiwisolver-1.4.7-cp311-cp311-win_amd64.whl (56 kB)\n",
            "Using cached lazy_loader-0.4-py3-none-any.whl (12 kB)\n",
            "Using cached Markdown-3.7-py3-none-any.whl (106 kB)\n",
            "Using cached numcodecs-0.13.0-cp311-cp311-win_amd64.whl (833 kB)\n",
            "Using cached pyarrow-17.0.0-cp311-cp311-win_amd64.whl (25.2 MB)\n",
            "Using cached referencing-0.35.1-py3-none-any.whl (26 kB)\n",
            "Using cached requests-2.32.3-py3-none-any.whl (64 kB)\n",
            "Using cached SQLAlchemy-2.0.35-cp311-cp311-win_amd64.whl (2.1 MB)\n",
            "Using cached astor-0.8.1-py2.py3-none-any.whl (27 kB)\n",
            "Using cached beautifulsoup4-4.12.3-py3-none-any.whl (147 kB)\n",
            "Using cached colorlog-6.8.2-py3-none-any.whl (11 kB)\n",
            "Using cached fasteners-0.19-py3-none-any.whl (18 kB)\n",
            "Using cached nptyping-2.5.0-py3-none-any.whl (37 kB)\n",
            "Using cached PythonWebHDFS-0.2.3-py3-none-any.whl (10 kB)\n",
            "Using cached responses-0.25.3-py3-none-any.whl (55 kB)\n",
            "Using cached blinker-1.8.2-py3-none-any.whl (9.5 kB)\n",
            "Using cached cachetools-5.5.0-py3-none-any.whl (9.5 kB)\n",
            "Using cached certifi-2024.8.30-py3-none-any.whl (167 kB)\n",
            "Using cached charset_normalizer-3.3.2-cp311-cp311-win_amd64.whl (99 kB)\n",
            "Using cached click-8.1.7-py3-none-any.whl (97 kB)\n",
            "Using cached databricks_sdk-0.33.0-py3-none-any.whl (562 kB)\n",
            "Using cached GitPython-3.1.43-py3-none-any.whl (207 kB)\n",
            "Using cached graphql_core-3.2.4-py3-none-any.whl (203 kB)\n",
            "Using cached graphql_relay-3.2.0-py3-none-any.whl (16 kB)\n",
            "Using cached greenlet-3.1.1-cp311-cp311-win_amd64.whl (298 kB)\n",
            "Using cached idna-3.10-py3-none-any.whl (70 kB)\n",
            "Using cached itsdangerous-2.2.0-py3-none-any.whl (16 kB)\n",
            "Using cached opentelemetry_api-1.27.0-py3-none-any.whl (63 kB)\n",
            "Using cached opentelemetry_sdk-1.27.0-py3-none-any.whl (110 kB)\n",
            "Using cached opentelemetry_semantic_conventions-0.48b0-py3-none-any.whl (149 kB)\n",
            "Using cached Mako-1.3.5-py3-none-any.whl (78 kB)\n",
            "Using cached Deprecated-1.2.14-py2.py3-none-any.whl (9.6 kB)\n",
            "Using cached gitdb-4.0.11-py3-none-any.whl (62 kB)\n",
            "Using cached google_auth-2.35.0-py2.py3-none-any.whl (208 kB)\n",
            "Using cached pyasn1_modules-0.4.1-py3-none-any.whl (181 kB)\n",
            "Using cached rsa-4.9-py3-none-any.whl (34 kB)\n",
            "Installing collected packages: tifffile, tensorboardX, rsa, pyasn1-modules, pyarrow, openslide-python, onnx, numcodecs, nptyping, nibabel, markdown, Mako, lazy-loader, kiwisolver, itsdangerous, itk-core, imageio, imagecodecs, idna, h5py, grpcio, greenlet, graphql-core, gitdb, fonttools, fire, filelock, fasteners, einops, deprecated, cycler, contourpy, colorlog, cloudpickle, click, charset-normalizer, certifi, cachetools, blinker, beautifulsoup4, attrs, astor, absl-py, zarr, tensorboard, sqlalchemy, scikit-image, requests, referencing, pynrrd, opentelemetry-api, matplotlib, itk-numerics, itk-io, graphql-relay, google-auth, gitpython, furl, Flask, torchvision, responses, pytorch-ignite, PythonWebHDFS, opentelemetry-semantic-conventions, jsonschema-specifications, itk-filtering, huggingface-hub, graphene, docker, databricks-sdk, alembic, optuna, opentelemetry-sdk, nni, lpips, jsonschema, itk-segmentation, itk-registration, gdown, mlflow-skinny, itk, clearml, mlflow\n",
            "Note: you may need to restart the kernel to use updated packages.\n"
          ]
        },
        {
          "name": "stderr",
          "output_type": "stream",
          "text": [
            "ERROR: Could not install packages due to an OSError: [Errno 28] No space left on device\n",
            "\n"
          ]
        }
      ],
      "source": [
        "%pip install monai[all]"
      ]
    },
    {
      "cell_type": "code",
      "execution_count": 4,
      "metadata": {
        "colab": {
          "base_uri": "https://localhost:8080/"
        },
        "id": "_r3cOnh9BNAU",
        "outputId": "c33f0803-186d-44b3-a68c-ca1a94612237"
      },
      "outputs": [
        {
          "ename": "AttributeError",
          "evalue": "module 'torch' has no attribute 'Tensor'",
          "output_type": "error",
          "traceback": [
            "\u001b[1;31m---------------------------------------------------------------------------\u001b[0m",
            "\u001b[1;31mAttributeError\u001b[0m                            Traceback (most recent call last)",
            "Cell \u001b[1;32mIn[4], line 1\u001b[0m\n\u001b[1;32m----> 1\u001b[0m \u001b[38;5;28;01mimport\u001b[39;00m \u001b[38;5;21;01mmonai\u001b[39;00m\n\u001b[0;32m      2\u001b[0m monai\u001b[38;5;241m.\u001b[39mconfig\u001b[38;5;241m.\u001b[39mprint_config()\n",
            "File \u001b[1;32mc:\\Users\\gatig\\anaconda3\\envs\\bm\\Lib\\site-packages\\monai\\__init__.py:58\u001b[0m\n\u001b[0;32m     44\u001b[0m excludes \u001b[38;5;241m=\u001b[39m \u001b[38;5;124m\"\u001b[39m\u001b[38;5;124m|\u001b[39m\u001b[38;5;124m\"\u001b[39m\u001b[38;5;241m.\u001b[39mjoin(\n\u001b[0;32m     45\u001b[0m     [\n\u001b[0;32m     46\u001b[0m         \u001b[38;5;124m\"\u001b[39m\u001b[38;5;124m(^(monai.handlers))\u001b[39m\u001b[38;5;124m\"\u001b[39m,\n\u001b[1;32m   (...)\u001b[0m\n\u001b[0;32m     54\u001b[0m     ]\n\u001b[0;32m     55\u001b[0m )\n\u001b[0;32m     57\u001b[0m \u001b[38;5;66;03m# load directory modules only, skip loading individual files\u001b[39;00m\n\u001b[1;32m---> 58\u001b[0m \u001b[43mload_submodules\u001b[49m\u001b[43m(\u001b[49m\u001b[43msys\u001b[49m\u001b[38;5;241;43m.\u001b[39;49m\u001b[43mmodules\u001b[49m\u001b[43m[\u001b[49m\u001b[38;5;18;43m__name__\u001b[39;49m\u001b[43m]\u001b[49m\u001b[43m,\u001b[49m\u001b[43m \u001b[49m\u001b[38;5;28;43;01mFalse\u001b[39;49;00m\u001b[43m,\u001b[49m\u001b[43m \u001b[49m\u001b[43mexclude_pattern\u001b[49m\u001b[38;5;241;43m=\u001b[39;49m\u001b[43mexcludes\u001b[49m\u001b[43m)\u001b[49m\n\u001b[0;32m     60\u001b[0m \u001b[38;5;66;03m# load all modules, this will trigger all export decorations\u001b[39;00m\n\u001b[0;32m     61\u001b[0m load_submodules(sys\u001b[38;5;241m.\u001b[39mmodules[\u001b[38;5;18m__name__\u001b[39m], \u001b[38;5;28;01mTrue\u001b[39;00m, exclude_pattern\u001b[38;5;241m=\u001b[39mexcludes)\n",
            "File \u001b[1;32mc:\\Users\\gatig\\anaconda3\\envs\\bm\\Lib\\site-packages\\monai\\utils\\module.py:211\u001b[0m, in \u001b[0;36mload_submodules\u001b[1;34m(basemod, load_all, exclude_pattern)\u001b[0m\n\u001b[0;32m    209\u001b[0m \u001b[38;5;28;01mif\u001b[39;00m (is_pkg \u001b[38;5;129;01mor\u001b[39;00m load_all) \u001b[38;5;129;01mand\u001b[39;00m name \u001b[38;5;129;01mnot\u001b[39;00m \u001b[38;5;129;01min\u001b[39;00m sys\u001b[38;5;241m.\u001b[39mmodules \u001b[38;5;129;01mand\u001b[39;00m match(exclude_pattern, name) \u001b[38;5;129;01mis\u001b[39;00m \u001b[38;5;28;01mNone\u001b[39;00m:\n\u001b[0;32m    210\u001b[0m     \u001b[38;5;28;01mtry\u001b[39;00m:\n\u001b[1;32m--> 211\u001b[0m         mod \u001b[38;5;241m=\u001b[39m \u001b[43mimport_module\u001b[49m\u001b[43m(\u001b[49m\u001b[43mname\u001b[49m\u001b[43m)\u001b[49m\n\u001b[0;32m    212\u001b[0m         importer\u001b[38;5;241m.\u001b[39mfind_spec(name)\u001b[38;5;241m.\u001b[39mloader\u001b[38;5;241m.\u001b[39mload_module(name)  \u001b[38;5;66;03m# type: ignore\u001b[39;00m\n\u001b[0;32m    213\u001b[0m         submodules\u001b[38;5;241m.\u001b[39mappend(mod)\n",
            "File \u001b[1;32mc:\\Users\\gatig\\anaconda3\\envs\\bm\\Lib\\importlib\\__init__.py:126\u001b[0m, in \u001b[0;36mimport_module\u001b[1;34m(name, package)\u001b[0m\n\u001b[0;32m    124\u001b[0m             \u001b[38;5;28;01mbreak\u001b[39;00m\n\u001b[0;32m    125\u001b[0m         level \u001b[38;5;241m+\u001b[39m\u001b[38;5;241m=\u001b[39m \u001b[38;5;241m1\u001b[39m\n\u001b[1;32m--> 126\u001b[0m \u001b[38;5;28;01mreturn\u001b[39;00m \u001b[43m_bootstrap\u001b[49m\u001b[38;5;241;43m.\u001b[39;49m\u001b[43m_gcd_import\u001b[49m\u001b[43m(\u001b[49m\u001b[43mname\u001b[49m\u001b[43m[\u001b[49m\u001b[43mlevel\u001b[49m\u001b[43m:\u001b[49m\u001b[43m]\u001b[49m\u001b[43m,\u001b[49m\u001b[43m \u001b[49m\u001b[43mpackage\u001b[49m\u001b[43m,\u001b[49m\u001b[43m \u001b[49m\u001b[43mlevel\u001b[49m\u001b[43m)\u001b[49m\n",
            "File \u001b[1;32mc:\\Users\\gatig\\anaconda3\\envs\\bm\\Lib\\site-packages\\monai\\apps\\__init__.py:14\u001b[0m\n\u001b[0;32m      1\u001b[0m \u001b[38;5;66;03m# Copyright (c) MONAI Consortium\u001b[39;00m\n\u001b[0;32m      2\u001b[0m \u001b[38;5;66;03m# Licensed under the Apache License, Version 2.0 (the \"License\");\u001b[39;00m\n\u001b[0;32m      3\u001b[0m \u001b[38;5;66;03m# you may not use this file except in compliance with the License.\u001b[39;00m\n\u001b[1;32m   (...)\u001b[0m\n\u001b[0;32m      9\u001b[0m \u001b[38;5;66;03m# See the License for the specific language governing permissions and\u001b[39;00m\n\u001b[0;32m     10\u001b[0m \u001b[38;5;66;03m# limitations under the License.\u001b[39;00m\n\u001b[0;32m     12\u001b[0m \u001b[38;5;28;01mfrom\u001b[39;00m \u001b[38;5;21;01m__future__\u001b[39;00m \u001b[38;5;28;01mimport\u001b[39;00m annotations\n\u001b[1;32m---> 14\u001b[0m \u001b[38;5;28;01mfrom\u001b[39;00m \u001b[38;5;21;01m.\u001b[39;00m\u001b[38;5;21;01mdatasets\u001b[39;00m \u001b[38;5;28;01mimport\u001b[39;00m CrossValidation, DecathlonDataset, MedNISTDataset, TciaDataset\n\u001b[0;32m     15\u001b[0m \u001b[38;5;28;01mfrom\u001b[39;00m \u001b[38;5;21;01m.\u001b[39;00m\u001b[38;5;21;01mmmars\u001b[39;00m \u001b[38;5;28;01mimport\u001b[39;00m MODEL_DESC, RemoteMMARKeys, download_mmar, get_model_spec, load_from_mmar\n\u001b[0;32m     16\u001b[0m \u001b[38;5;28;01mfrom\u001b[39;00m \u001b[38;5;21;01m.\u001b[39;00m\u001b[38;5;21;01mutils\u001b[39;00m \u001b[38;5;28;01mimport\u001b[39;00m SUPPORTED_HASH_TYPES, check_hash, download_and_extract, download_url, extractall, get_logger, logger\n",
            "File \u001b[1;32mc:\\Users\\gatig\\anaconda3\\envs\\bm\\Lib\\site-packages\\monai\\apps\\datasets.py:24\u001b[0m\n\u001b[0;32m     20\u001b[0m \u001b[38;5;28;01mfrom\u001b[39;00m \u001b[38;5;21;01mtyping\u001b[39;00m \u001b[38;5;28;01mimport\u001b[39;00m Any\n\u001b[0;32m     22\u001b[0m \u001b[38;5;28;01mimport\u001b[39;00m \u001b[38;5;21;01mnumpy\u001b[39;00m \u001b[38;5;28;01mas\u001b[39;00m \u001b[38;5;21;01mnp\u001b[39;00m\n\u001b[1;32m---> 24\u001b[0m \u001b[38;5;28;01mfrom\u001b[39;00m \u001b[38;5;21;01mmonai\u001b[39;00m\u001b[38;5;21;01m.\u001b[39;00m\u001b[38;5;21;01mapps\u001b[39;00m\u001b[38;5;21;01m.\u001b[39;00m\u001b[38;5;21;01mtcia\u001b[39;00m \u001b[38;5;28;01mimport\u001b[39;00m (\n\u001b[0;32m     25\u001b[0m     DCM_FILENAME_REGEX,\n\u001b[0;32m     26\u001b[0m     download_tcia_series_instance,\n\u001b[0;32m     27\u001b[0m     get_tcia_metadata,\n\u001b[0;32m     28\u001b[0m     get_tcia_ref_uid,\n\u001b[0;32m     29\u001b[0m     match_tcia_ref_uid_in_study,\n\u001b[0;32m     30\u001b[0m )\n\u001b[0;32m     31\u001b[0m \u001b[38;5;28;01mfrom\u001b[39;00m \u001b[38;5;21;01mmonai\u001b[39;00m\u001b[38;5;21;01m.\u001b[39;00m\u001b[38;5;21;01mapps\u001b[39;00m\u001b[38;5;21;01m.\u001b[39;00m\u001b[38;5;21;01mutils\u001b[39;00m \u001b[38;5;28;01mimport\u001b[39;00m download_and_extract\n\u001b[0;32m     32\u001b[0m \u001b[38;5;28;01mfrom\u001b[39;00m \u001b[38;5;21;01mmonai\u001b[39;00m\u001b[38;5;21;01m.\u001b[39;00m\u001b[38;5;21;01mconfig\u001b[39;00m\u001b[38;5;21;01m.\u001b[39;00m\u001b[38;5;21;01mtype_definitions\u001b[39;00m \u001b[38;5;28;01mimport\u001b[39;00m PathLike\n",
            "File \u001b[1;32mc:\\Users\\gatig\\anaconda3\\envs\\bm\\Lib\\site-packages\\monai\\apps\\tcia\\__init__.py:15\u001b[0m\n\u001b[0;32m     12\u001b[0m \u001b[38;5;28;01mfrom\u001b[39;00m \u001b[38;5;21;01m__future__\u001b[39;00m \u001b[38;5;28;01mimport\u001b[39;00m annotations\n\u001b[0;32m     14\u001b[0m \u001b[38;5;28;01mfrom\u001b[39;00m \u001b[38;5;21;01m.\u001b[39;00m\u001b[38;5;21;01mlabel_desc\u001b[39;00m \u001b[38;5;28;01mimport\u001b[39;00m TCIA_LABEL_DICT\n\u001b[1;32m---> 15\u001b[0m \u001b[38;5;28;01mfrom\u001b[39;00m \u001b[38;5;21;01m.\u001b[39;00m\u001b[38;5;21;01mutils\u001b[39;00m \u001b[38;5;28;01mimport\u001b[39;00m (\n\u001b[0;32m     16\u001b[0m     BASE_URL,\n\u001b[0;32m     17\u001b[0m     DCM_FILENAME_REGEX,\n\u001b[0;32m     18\u001b[0m     download_tcia_series_instance,\n\u001b[0;32m     19\u001b[0m     get_tcia_metadata,\n\u001b[0;32m     20\u001b[0m     get_tcia_ref_uid,\n\u001b[0;32m     21\u001b[0m     match_tcia_ref_uid_in_study,\n\u001b[0;32m     22\u001b[0m )\n",
            "File \u001b[1;32mc:\\Users\\gatig\\anaconda3\\envs\\bm\\Lib\\site-packages\\monai\\apps\\tcia\\utils.py:18\u001b[0m\n\u001b[0;32m     15\u001b[0m \u001b[38;5;28;01mfrom\u001b[39;00m \u001b[38;5;21;01mtyping\u001b[39;00m \u001b[38;5;28;01mimport\u001b[39;00m Iterable\n\u001b[0;32m     17\u001b[0m \u001b[38;5;28;01mimport\u001b[39;00m \u001b[38;5;21;01mmonai\u001b[39;00m\n\u001b[1;32m---> 18\u001b[0m \u001b[38;5;28;01mfrom\u001b[39;00m \u001b[38;5;21;01mmonai\u001b[39;00m\u001b[38;5;21;01m.\u001b[39;00m\u001b[38;5;21;01mconfig\u001b[39;00m\u001b[38;5;21;01m.\u001b[39;00m\u001b[38;5;21;01mtype_definitions\u001b[39;00m \u001b[38;5;28;01mimport\u001b[39;00m PathLike\n\u001b[0;32m     19\u001b[0m \u001b[38;5;28;01mfrom\u001b[39;00m \u001b[38;5;21;01mmonai\u001b[39;00m\u001b[38;5;21;01m.\u001b[39;00m\u001b[38;5;21;01mutils\u001b[39;00m \u001b[38;5;28;01mimport\u001b[39;00m optional_import\n\u001b[0;32m     21\u001b[0m requests_get, has_requests \u001b[38;5;241m=\u001b[39m optional_import(\u001b[38;5;124m\"\u001b[39m\u001b[38;5;124mrequests\u001b[39m\u001b[38;5;124m\"\u001b[39m, name\u001b[38;5;241m=\u001b[39m\u001b[38;5;124m\"\u001b[39m\u001b[38;5;124mget\u001b[39m\u001b[38;5;124m\"\u001b[39m)\n",
            "File \u001b[1;32mc:\\Users\\gatig\\anaconda3\\envs\\bm\\Lib\\site-packages\\monai\\config\\__init__.py:27\u001b[0m\n\u001b[0;32m     12\u001b[0m \u001b[38;5;28;01mfrom\u001b[39;00m \u001b[38;5;21;01m__future__\u001b[39;00m \u001b[38;5;28;01mimport\u001b[39;00m annotations\n\u001b[0;32m     14\u001b[0m \u001b[38;5;28;01mfrom\u001b[39;00m \u001b[38;5;21;01m.\u001b[39;00m\u001b[38;5;21;01mdeviceconfig\u001b[39;00m \u001b[38;5;28;01mimport\u001b[39;00m (\n\u001b[0;32m     15\u001b[0m     USE_COMPILED,\n\u001b[0;32m     16\u001b[0m     USE_META_DICT,\n\u001b[1;32m   (...)\u001b[0m\n\u001b[0;32m     25\u001b[0m     print_system_info,\n\u001b[0;32m     26\u001b[0m )\n\u001b[1;32m---> 27\u001b[0m \u001b[38;5;28;01mfrom\u001b[39;00m \u001b[38;5;21;01m.\u001b[39;00m\u001b[38;5;21;01mtype_definitions\u001b[39;00m \u001b[38;5;28;01mimport\u001b[39;00m (\n\u001b[0;32m     28\u001b[0m     DtypeLike,\n\u001b[0;32m     29\u001b[0m     IndexSelection,\n\u001b[0;32m     30\u001b[0m     KeysCollection,\n\u001b[0;32m     31\u001b[0m     NdarrayOrTensor,\n\u001b[0;32m     32\u001b[0m     NdarrayTensor,\n\u001b[0;32m     33\u001b[0m     PathLike,\n\u001b[0;32m     34\u001b[0m     SequenceStr,\n\u001b[0;32m     35\u001b[0m     TensorOrList,\n\u001b[0;32m     36\u001b[0m )\n",
            "File \u001b[1;32mc:\\Users\\gatig\\anaconda3\\envs\\bm\\Lib\\site-packages\\monai\\config\\type_definitions.py:69\u001b[0m\n\u001b[0;32m     66\u001b[0m DtypeLike \u001b[38;5;241m=\u001b[39m Union[np\u001b[38;5;241m.\u001b[39mdtype, \u001b[38;5;28mtype\u001b[39m, \u001b[38;5;28mstr\u001b[39m, \u001b[38;5;28;01mNone\u001b[39;00m]\n\u001b[0;32m     68\u001b[0m \u001b[38;5;66;03m#: NdarrayOrTensor: Union of numpy.ndarray and torch.Tensor to be used for typing\u001b[39;00m\n\u001b[1;32m---> 69\u001b[0m NdarrayOrTensor \u001b[38;5;241m=\u001b[39m Union[np\u001b[38;5;241m.\u001b[39mndarray, \u001b[43mtorch\u001b[49m\u001b[38;5;241;43m.\u001b[39;49m\u001b[43mTensor\u001b[49m]\n\u001b[0;32m     71\u001b[0m \u001b[38;5;66;03m#: NdarrayTensor\u001b[39;00m\n\u001b[0;32m     72\u001b[0m \u001b[38;5;66;03m#\u001b[39;00m\n\u001b[0;32m     73\u001b[0m \u001b[38;5;66;03m# Generic type which can represent either a numpy.ndarray or a torch.Tensor\u001b[39;00m\n\u001b[0;32m     74\u001b[0m \u001b[38;5;66;03m# Unlike Union can create a dependence between parameter(s) / return(s)\u001b[39;00m\n\u001b[0;32m     75\u001b[0m NdarrayTensor \u001b[38;5;241m=\u001b[39m TypeVar(\u001b[38;5;124m\"\u001b[39m\u001b[38;5;124mNdarrayTensor\u001b[39m\u001b[38;5;124m\"\u001b[39m, bound\u001b[38;5;241m=\u001b[39mNdarrayOrTensor)\n",
            "\u001b[1;31mAttributeError\u001b[0m: module 'torch' has no attribute 'Tensor'"
          ]
        }
      ],
      "source": [
        "import monai\n",
        "monai.config.print_config()"
      ]
    },
    {
      "cell_type": "markdown",
      "metadata": {
        "id": "fMqjrNJdxMb8"
      },
      "source": [
        "#  Dataset\n",
        "\n",
        "To train a model, we need to prepare some ingredients:\n",
        "\n",
        "1. Dataset\n",
        "2. Model\n",
        "3. Loss function\n",
        "4. Optimizer"
      ]
    },
    {
      "cell_type": "markdown",
      "metadata": {
        "id": "R0aIL2Hj-Awt"
      },
      "source": [
        "# I. Create Dataset\n",
        "\n",
        "There are two ways to create your dataset:\n",
        "- with pytorch Dataset\n",
        "- with monai.data.Dataset.\n",
        "\n",
        "In this exercise, we will create our dataset using torch.utils.data.Dataset."
      ]
    },
    {
      "cell_type": "markdown",
      "metadata": {
        "id": "JryJX0iF-VFE"
      },
      "source": [
        "## 1. List all files in folder\n",
        "\n",
        "Download the dataset from https://zenodo.org/record/1175282#.YMn_Qy-FDox\n",
        "\n",
        "Notice that there are two kind of folder : original cell picture folder and mask folders. Using your file explorer or some code, display one image and the corresponding image"
      ]
    },
    {
      "cell_type": "code",
      "execution_count": 1,
      "metadata": {
        "id": "wkZe8UNc_UbL"
      },
      "outputs": [],
      "source": []
    },
    {
      "cell_type": "markdown",
      "metadata": {
        "id": "5YNnKfAb-f7x"
      },
      "source": [
        "## 2. Define a transform\n",
        "When you load your data, you need to define some transformation. For example, we want to convert image to the format [num_channels, spatial_dim_1, spatial_dim_2] because monai/pytorch use this format. We'll also need to convert the images to PyTorch tensors with transforms.ToTensor()\n",
        "\n",
        "The following code lets you load image and the labels and define several steps to transform the data.\n"
      ]
    },
    {
      "cell_type": "code",
      "execution_count": null,
      "metadata": {
        "id": "b2anGmiYpof_"
      },
      "outputs": [],
      "source": [
        "import torch\n",
        "\n",
        "from monai.transforms import Compose, LoadImage, AsChannelFirst, ToTensor, AddChannel, NormalizeIntensity\n",
        "from monai.transforms import ScaleIntensity\n",
        "\n",
        "from monai.data import PILReader\n",
        "\n",
        "image_trans = Compose(\n",
        "    [\n",
        "        LoadImage(image_only=True, reader = PILReader(converter=lambda image: image.convert(\"RGB\"))),\n",
        "        AsChannelFirst(),\n",
        "        NormalizeIntensity(),\n",
        "        ToTensor(),\n",
        "    ])\n",
        "\n",
        "\n",
        "label_trans = Compose(\n",
        "    [\n",
        "        LoadImage(image_only=True),\n",
        "        AddChannel(),\n",
        "        ScaleIntensity(),\n",
        "        ToTensor(),\n",
        "    ])"
      ]
    },
    {
      "cell_type": "markdown",
      "metadata": {
        "id": "ddVJrwCj_zbo"
      },
      "source": [
        "\n",
        "## 3. Create dataset\n",
        "\n",
        "The following class CellDataset allows us to create our dataset from \"image_files\" and \"label_files\" where:\n",
        "- \"image_files\" is a list of image names\n",
        "- \"label_files\" is the list of segmentation names respectively.\n",
        "\n",
        "\"im_trans\" and \"label_trans\" are respectively the transforms for the images and their labels.\n",
        "\n",
        "\n"
      ]
    },
    {
      "cell_type": "code",
      "execution_count": null,
      "metadata": {
        "id": "vWK4PlpWpolZ"
      },
      "outputs": [],
      "source": [
        "import torch\n",
        "\n",
        "class CellDataset(torch.utils.data.Dataset):\n",
        "    def __init__(self, image_files, label_files, im_trans, label_trans):\n",
        "        self.image_files = image_files\n",
        "        self.label_files = label_files\n",
        "        self.im_trans = im_trans\n",
        "        self.label_trans = label_trans\n",
        "\n",
        "    def __len__(self):\n",
        "        return(len(self.image_files))\n",
        "\n",
        "    def __getitem__(self, index):\n",
        "        return self.im_trans(self.image_files[index]), self.label_trans(label_files[index])\n",
        "\n"
      ]
    },
    {
      "cell_type": "markdown",
      "metadata": {
        "id": "laSzipHBP5T2"
      },
      "source": [
        "By using this class, create your training dataset et your test dataset. Remember to check if your dataset is loaded correctly."
      ]
    },
    {
      "cell_type": "code",
      "execution_count": null,
      "metadata": {
        "id": "D7sGPHxzABxg"
      },
      "outputs": [],
      "source": [
        "train_dataset = CellDataset() # to change\n",
        "test_dataset = #todo"
      ]
    },
    {
      "cell_type": "markdown",
      "metadata": {
        "id": "6EhMFYfzARsM"
      },
      "source": [
        "## 4. DataLoader\n",
        "\n",
        "With the your dataset loaded, you have to pass it to a DataLoader. The torch.utils.data.DataLoader takes a dataset and returns batches of images and the corresponding labels. You can set various parameters like the batch size and if the data is shuffled after each epoch.\n",
        "\n",
        "\n",
        "The following code let you create a data loader for the train dataset, do the same to create a test_loader on the test_dataset. Name it **test_load**\n"
      ]
    },
    {
      "cell_type": "code",
      "execution_count": null,
      "metadata": {
        "id": "23DWy_Z6qtzA"
      },
      "outputs": [],
      "source": [
        "train_loader = torch.utils.data.DataLoader()\n",
        "test_loader ="
      ]
    },
    {
      "cell_type": "markdown",
      "metadata": {
        "id": "KkjvNXseAhNG"
      },
      "source": [
        "## 5. Now, time to check your dataloader.\n",
        "\n",
        "Execute the code following to check if your dataloader works correctly"
      ]
    },
    {
      "cell_type": "code",
      "execution_count": null,
      "metadata": {
        "id": "IXKEr86dAQyZ"
      },
      "outputs": [],
      "source": [
        "import monai\n",
        "im, seg = monai.utils.misc.first(train_loader)\n",
        "im.shape"
      ]
    },
    {
      "cell_type": "markdown",
      "metadata": {
        "id": "H6a-OUu_AsK5"
      },
      "source": [
        "# II. Build your segmentation model with monai\n",
        "\n",
        "Monai already has a UNet model architecture : https://docs.monai.io/en/stable/networks.html#unet\n",
        "\n",
        "By using the monai.networks.nets module, build a UNet model for segmentation task in 2D. You'll have to choose the following parameters for the model:\n",
        "\n",
        "1. dimensions (number of spatial dimensions)\n",
        "2. in_channels (number of input channel)\n",
        "3. out_channels (number of output channel)\n",
        "4. channels\n",
        "5. strides\n"
      ]
    },
    {
      "cell_type": "code",
      "execution_count": 2,
      "metadata": {
        "id": "0E0jUzAjqzxQ"
      },
      "outputs": [],
      "source": [
        "#device = torch.device(\"cuda\" if torch.cuda.is_available() else \"cpu\")\n"
      ]
    },
    {
      "cell_type": "markdown",
      "metadata": {
        "id": "nH_L4VtQA8Ot"
      },
      "source": [
        "# III. Define your loss function and optimizer\n",
        "\n",
        "For a segmentation prob, we usually use DiceLoss.\n",
        "Using monai.losses.DiceLoss, define your loss function and store it in the variable named **loss_function**. The option sigmoid = True should be used.\n",
        "\n",
        "\n"
      ]
    },
    {
      "cell_type": "code",
      "execution_count": 2,
      "metadata": {
        "id": "ngCBrBnYrJzG"
      },
      "outputs": [],
      "source": []
    },
    {
      "cell_type": "markdown",
      "metadata": {
        "id": "TiZr14RbQixP"
      },
      "source": [
        "With torch.optim, define an optimizer for your model. Use the Adam optimiser\n",
        "\n"
      ]
    },
    {
      "cell_type": "code",
      "execution_count": null,
      "metadata": {
        "id": "_tVi8zq9QhT7"
      },
      "outputs": [],
      "source": []
    },
    {
      "cell_type": "markdown",
      "metadata": {
        "id": "36QIfwDqA_k_"
      },
      "source": [
        "# IV. Trainning the model\n",
        "\n",
        "This time, we have all ingredients to train a segmentation model: a model, an optimizer, train_loader and a loss function.  \n",
        "\n",
        "Monai use a standard PyTorch program style for training a deep learning model.\n",
        "\n",
        "\n",
        "The general process with Monai/Pytorch just for one learning step  as follows:\n",
        "\n",
        "1. Load input and label of each batch.\n",
        "\n",
        "2. Zero accumulated gradients with optimizer.zero_grad()\n",
        "\n",
        "3. Compute the output from the model\n",
        "\n",
        "4. Calculate the loss\n",
        "\n",
        "5. Perform backprop with loss.backward()\n",
        "\n",
        "6. Update the optimizer with optimizer.step()\n",
        "\n",
        "\n",
        "Complete the following code so that it do the training\n"
      ]
    },
    {
      "cell_type": "code",
      "execution_count": null,
      "metadata": {
        "id": "otkLPW8eBLla"
      },
      "outputs": [],
      "source": [
        "epoch_loss_values = list()\n",
        "for epoch in range(2):\n",
        "\n",
        "    model.train()\n",
        "    epoch_loss = 0\n",
        "    step = 0\n",
        "    for batch_data in train_loader:\n",
        "        step += 1\n",
        "        inputs, labels = batch_data[0].to(device), batch_data[1].to(device)\n",
        "        optimizer.zero_grad()\n",
        "\n",
        "        #compute the model predictions using the model variable and inputs\n",
        "        predictions =\n",
        "\n",
        "        # compute the loss using the loss function, the predictions and labels\n",
        "        loss =\n",
        "\n",
        "        # use the backward method of the loss variable to  compute the gradient of the loss used to find the minimum of the loss function\n",
        "\n",
        "        # call the step method of the optimizer\n",
        "        optimizer.step()\n",
        "\n",
        "        epoch_loss += loss.item()\n",
        "        epoch_len = len(train_dataset) // train_loader.batch_size\n",
        "        print(f\"{step}/{epoch_len}, train_loss: {loss.item():.4f}\")\n",
        "\n",
        "\n",
        "    epoch_loss /= step\n",
        "    epoch_loss_values.append(epoch_loss)\n",
        "    print(f\"epoch {epoch + 1} average loss: {epoch_loss:.4f}\")\n"
      ]
    },
    {
      "cell_type": "markdown",
      "metadata": {
        "id": "8ZH0CLztSbz7"
      },
      "source": [
        "Display the prediction of your model on several image"
      ]
    },
    {
      "cell_type": "code",
      "execution_count": null,
      "metadata": {
        "id": "NsbEyhTWQgVM"
      },
      "outputs": [],
      "source": []
    },
    {
      "cell_type": "markdown",
      "metadata": {
        "id": "BJWSuBSyjhU_"
      },
      "source": [
        "Train another architecture (either another Unet architecture or find another segmentation model in the available models of Monai). Compare the results with the first model"
      ]
    },
    {
      "cell_type": "code",
      "execution_count": null,
      "metadata": {
        "id": "mkSbqrcIjTit"
      },
      "outputs": [],
      "source": []
    }
  ],
  "metadata": {
    "colab": {
      "provenance": []
    },
    "kernelspec": {
      "display_name": "Python 3",
      "name": "python3"
    },
    "language_info": {
      "codemirror_mode": {
        "name": "ipython",
        "version": 3
      },
      "file_extension": ".py",
      "mimetype": "text/x-python",
      "name": "python",
      "nbconvert_exporter": "python",
      "pygments_lexer": "ipython3",
      "version": "3.11.9"
    }
  },
  "nbformat": 4,
  "nbformat_minor": 0
}
